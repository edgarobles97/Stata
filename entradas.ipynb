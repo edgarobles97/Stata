{
 "cells": [
  {
   "cell_type": "code",
   "execution_count": 1,
   "metadata": {},
   "outputs": [],
   "source": [
    "import pandas as pd\n",
    "import numpy as np"
   ]
  },
  {
   "cell_type": "code",
   "execution_count": 63,
   "metadata": {},
   "outputs": [],
   "source": [
    "pd.set_option('display.max_rows', 500)"
   ]
  },
  {
   "cell_type": "code",
   "execution_count": null,
   "metadata": {},
   "outputs": [],
   "source": [
    "### Importar la base de datos usando Pandas ###"
   ]
  },
  {
   "cell_type": "code",
   "execution_count": 10,
   "metadata": {},
   "outputs": [],
   "source": [
    "cars = pd.read_excel(\"EVENTOS_2018 SN.xlsx\", skiprows=7, index_col = 0)"
   ]
  },
  {
   "cell_type": "code",
   "execution_count": 21,
   "metadata": {},
   "outputs": [
    {
     "data": {
      "text/html": [
       "<div>\n",
       "<style scoped>\n",
       "    .dataframe tbody tr th:only-of-type {\n",
       "        vertical-align: middle;\n",
       "    }\n",
       "\n",
       "    .dataframe tbody tr th {\n",
       "        vertical-align: top;\n",
       "    }\n",
       "\n",
       "    .dataframe thead th {\n",
       "        text-align: right;\n",
       "    }\n",
       "</style>\n",
       "<table border=\"1\" class=\"dataframe\">\n",
       "  <thead>\n",
       "    <tr style=\"text-align: right;\">\n",
       "      <th></th>\n",
       "      <th>AREA</th>\n",
       "      <th>GRUPO</th>\n",
       "      <th>PANEL</th>\n",
       "      <th>FECHA</th>\n",
       "      <th>TIPO EVENTO</th>\n",
       "    </tr>\n",
       "    <tr>\n",
       "      <th>TARJETA</th>\n",
       "      <th></th>\n",
       "      <th></th>\n",
       "      <th></th>\n",
       "      <th></th>\n",
       "      <th></th>\n",
       "    </tr>\n",
       "  </thead>\n",
       "  <tbody>\n",
       "    <tr>\n",
       "      <th>15759</th>\n",
       "      <td>DICYG</td>\n",
       "      <td>ACADEMICOS</td>\n",
       "      <td>SUR 3 ENTRADA</td>\n",
       "      <td>2018-01-10 07:53:20</td>\n",
       "      <td>ACCESO CONCEDIDO</td>\n",
       "    </tr>\n",
       "    <tr>\n",
       "      <th>18089</th>\n",
       "      <td>DICT</td>\n",
       "      <td>ACADEMICOS</td>\n",
       "      <td>NORTE 1 ENTRADA</td>\n",
       "      <td>2018-01-10 07:55:17</td>\n",
       "      <td>ACCESO CONCEDIDO</td>\n",
       "    </tr>\n",
       "    <tr>\n",
       "      <th>4308</th>\n",
       "      <td>DIMEI</td>\n",
       "      <td>ACADEMICOS</td>\n",
       "      <td>SUR 3 ENTRADA</td>\n",
       "      <td>2018-01-10 07:55:33</td>\n",
       "      <td>ACCESO CONCEDIDO</td>\n",
       "    </tr>\n",
       "    <tr>\n",
       "      <th>15881</th>\n",
       "      <td>DIE</td>\n",
       "      <td>ACADEMICOS</td>\n",
       "      <td>SUR 3 ENTRADA</td>\n",
       "      <td>2018-01-10 07:56:21</td>\n",
       "      <td>ACCESO CONCEDIDO</td>\n",
       "    </tr>\n",
       "    <tr>\n",
       "      <th>234</th>\n",
       "      <td>SA</td>\n",
       "      <td>Master</td>\n",
       "      <td>NORTE 1 ENTRADA</td>\n",
       "      <td>2018-01-10 07:56:34</td>\n",
       "      <td>ACCESO CONCEDIDO</td>\n",
       "    </tr>\n",
       "  </tbody>\n",
       "</table>\n",
       "</div>"
      ],
      "text/plain": [
       "          AREA       GRUPO            PANEL               FECHA  \\\n",
       "TARJETA                                                           \n",
       "15759    DICYG  ACADEMICOS    SUR 3 ENTRADA 2018-01-10 07:53:20   \n",
       "18089     DICT  ACADEMICOS  NORTE 1 ENTRADA 2018-01-10 07:55:17   \n",
       "4308     DIMEI  ACADEMICOS    SUR 3 ENTRADA 2018-01-10 07:55:33   \n",
       "15881      DIE  ACADEMICOS    SUR 3 ENTRADA 2018-01-10 07:56:21   \n",
       "234         SA      Master  NORTE 1 ENTRADA 2018-01-10 07:56:34   \n",
       "\n",
       "              TIPO EVENTO  \n",
       "TARJETA                    \n",
       "15759    ACCESO CONCEDIDO  \n",
       "18089    ACCESO CONCEDIDO  \n",
       "4308     ACCESO CONCEDIDO  \n",
       "15881    ACCESO CONCEDIDO  \n",
       "234      ACCESO CONCEDIDO  "
      ]
     },
     "execution_count": 21,
     "metadata": {},
     "output_type": "execute_result"
    }
   ],
   "source": [
    "cars.head()"
   ]
  },
  {
   "cell_type": "code",
   "execution_count": 17,
   "metadata": {},
   "outputs": [
    {
     "name": "stdout",
     "output_type": "stream",
     "text": [
      "<class 'pandas.core.frame.DataFrame'>\n",
      "Int64Index: 223579 entries, 15759 to 3913\n",
      "Data columns (total 6 columns):\n",
      "AREA           223579 non-null object\n",
      "GRUPO          223579 non-null object\n",
      "PANEL          223579 non-null object\n",
      "FECHA          223579 non-null datetime64[ns]\n",
      "HORA           223579 non-null datetime64[ns]\n",
      "TIPO EVENTO    223579 non-null object\n",
      "dtypes: datetime64[ns](2), object(4)\n",
      "memory usage: 11.9+ MB\n"
     ]
    }
   ],
   "source": [
    "cars.info()"
   ]
  },
  {
   "cell_type": "code",
   "execution_count": 15,
   "metadata": {},
   "outputs": [],
   "source": [
    "cars['FECHA'] = pd.to_datetime(cars['FECHA'])"
   ]
  },
  {
   "cell_type": "code",
   "execution_count": 19,
   "metadata": {},
   "outputs": [],
   "source": [
    "cars.drop('HORA', axis = 1, inplace=True)"
   ]
  },
  {
   "cell_type": "code",
   "execution_count": 45,
   "metadata": {},
   "outputs": [],
   "source": [
    "cars_sur2 = cars.loc[cars[\"PANEL\"].isin(['SUR 2 ENTRADA','SUR 2 SALIDA'])]"
   ]
  },
  {
   "cell_type": "code",
   "execution_count": 50,
   "metadata": {},
   "outputs": [
    {
     "data": {
      "text/html": [
       "<div>\n",
       "<style scoped>\n",
       "    .dataframe tbody tr th:only-of-type {\n",
       "        vertical-align: middle;\n",
       "    }\n",
       "\n",
       "    .dataframe tbody tr th {\n",
       "        vertical-align: top;\n",
       "    }\n",
       "\n",
       "    .dataframe thead th {\n",
       "        text-align: right;\n",
       "    }\n",
       "</style>\n",
       "<table border=\"1\" class=\"dataframe\">\n",
       "  <thead>\n",
       "    <tr style=\"text-align: right;\">\n",
       "      <th></th>\n",
       "      <th>AREA</th>\n",
       "      <th>GRUPO</th>\n",
       "      <th>PANEL</th>\n",
       "      <th>FECHA</th>\n",
       "      <th>TIPO EVENTO</th>\n",
       "    </tr>\n",
       "    <tr>\n",
       "      <th>TARJETA</th>\n",
       "      <th></th>\n",
       "      <th></th>\n",
       "      <th></th>\n",
       "      <th></th>\n",
       "      <th></th>\n",
       "    </tr>\n",
       "  </thead>\n",
       "  <tbody>\n",
       "    <tr>\n",
       "      <th>23624</th>\n",
       "      <td>SA DIyV</td>\n",
       "      <td>ADMINISTRATIVOS_SUR</td>\n",
       "      <td>SUR 2 ENTRADA</td>\n",
       "      <td>2018-01-10 08:03:36</td>\n",
       "      <td>ACCESO CONCEDIDO</td>\n",
       "    </tr>\n",
       "    <tr>\n",
       "      <th>23739</th>\n",
       "      <td>SG CB</td>\n",
       "      <td>ADMINISTRATIVOS_SUR</td>\n",
       "      <td>SUR 2 ENTRADA</td>\n",
       "      <td>2018-01-10 08:05:04</td>\n",
       "      <td>ACCESO CONCEDIDO</td>\n",
       "    </tr>\n",
       "    <tr>\n",
       "      <th>58010</th>\n",
       "      <td>SA PE</td>\n",
       "      <td>ADMINISTRATIVOS_SUR</td>\n",
       "      <td>SUR 2 ENTRADA</td>\n",
       "      <td>2018-01-10 08:08:38</td>\n",
       "      <td>ACCESO CONCEDIDO</td>\n",
       "    </tr>\n",
       "    <tr>\n",
       "      <th>23798</th>\n",
       "      <td>DIE</td>\n",
       "      <td>ADMINISTRATIVOS_SUR</td>\n",
       "      <td>SUR 2 ENTRADA</td>\n",
       "      <td>2018-01-10 08:11:44</td>\n",
       "      <td>ACCESO CONCEDIDO</td>\n",
       "    </tr>\n",
       "    <tr>\n",
       "      <th>8753</th>\n",
       "      <td>DCB</td>\n",
       "      <td>ACADEMICOS</td>\n",
       "      <td>SUR 2 ENTRADA</td>\n",
       "      <td>2018-01-10 08:13:40</td>\n",
       "      <td>ACCESO CONCEDIDO</td>\n",
       "    </tr>\n",
       "  </tbody>\n",
       "</table>\n",
       "</div>"
      ],
      "text/plain": [
       "            AREA                GRUPO          PANEL               FECHA  \\\n",
       "TARJETA                                                                    \n",
       "23624    SA DIyV  ADMINISTRATIVOS_SUR  SUR 2 ENTRADA 2018-01-10 08:03:36   \n",
       "23739      SG CB  ADMINISTRATIVOS_SUR  SUR 2 ENTRADA 2018-01-10 08:05:04   \n",
       "58010      SA PE  ADMINISTRATIVOS_SUR  SUR 2 ENTRADA 2018-01-10 08:08:38   \n",
       "23798        DIE  ADMINISTRATIVOS_SUR  SUR 2 ENTRADA 2018-01-10 08:11:44   \n",
       "8753         DCB           ACADEMICOS  SUR 2 ENTRADA 2018-01-10 08:13:40   \n",
       "\n",
       "              TIPO EVENTO  \n",
       "TARJETA                    \n",
       "23624    ACCESO CONCEDIDO  \n",
       "23739    ACCESO CONCEDIDO  \n",
       "58010    ACCESO CONCEDIDO  \n",
       "23798    ACCESO CONCEDIDO  \n",
       "8753     ACCESO CONCEDIDO  "
      ]
     },
     "execution_count": 50,
     "metadata": {},
     "output_type": "execute_result"
    }
   ],
   "source": [
    "cars_sur2.head()"
   ]
  },
  {
   "cell_type": "code",
   "execution_count": null,
   "metadata": {},
   "outputs": [],
   "source": [
    "### Ordenar valores por fecha ###"
   ]
  },
  {
   "cell_type": "code",
   "execution_count": 60,
   "metadata": {},
   "outputs": [],
   "source": [
    "cars_sur2 = cars_sur2.sort_values(by = \"FECHA\")"
   ]
  },
  {
   "cell_type": "code",
   "execution_count": null,
   "metadata": {},
   "outputs": [],
   "source": [
    "### Funcióon cuyo argumento es el ID del individuo, regresa el registro con entradas y salidas"
   ]
  },
  {
   "cell_type": "code",
   "execution_count": 72,
   "metadata": {},
   "outputs": [],
   "source": [
    "def infocar(iden):\n",
    "    return cars_sur2.loc[iden].groupby(\"PANEL\")[\"AREA\"].count()"
   ]
  },
  {
   "cell_type": "code",
   "execution_count": 73,
   "metadata": {},
   "outputs": [],
   "source": [
    "### Ejemplo ###"
   ]
  },
  {
   "cell_type": "code",
   "execution_count": 74,
   "metadata": {},
   "outputs": [
    {
     "data": {
      "text/plain": [
       "PANEL\n",
       "SUR 2 ENTRADA    66\n",
       "SUR 2 SALIDA     66\n",
       "Name: AREA, dtype: int64"
      ]
     },
     "execution_count": 74,
     "metadata": {},
     "output_type": "execute_result"
    }
   ],
   "source": [
    "infocar(23798)"
   ]
  },
  {
   "cell_type": "code",
   "execution_count": null,
   "metadata": {},
   "outputs": [],
   "source": []
  },
  {
   "cell_type": "code",
   "execution_count": null,
   "metadata": {},
   "outputs": [],
   "source": []
  }
 ],
 "metadata": {
  "kernelspec": {
   "display_name": "Python 3",
   "language": "python",
   "name": "python3"
  },
  "language_info": {
   "codemirror_mode": {
    "name": "ipython",
    "version": 3
   },
   "file_extension": ".py",
   "mimetype": "text/x-python",
   "name": "python",
   "nbconvert_exporter": "python",
   "pygments_lexer": "ipython3",
   "version": "3.7.1"
  }
 },
 "nbformat": 4,
 "nbformat_minor": 2
}
